{
  "cells": [
    {
      "cell_type": "code",
      "execution_count": 189,
      "metadata": {
        "colab": {
          "base_uri": "https://localhost:8080/"
        },
        "id": "Mbg8PyFoL2iG",
        "outputId": "e7b51451-fe2b-4fbf-9db4-9b5ca1f08dd0"
      },
      "outputs": [],
      "source": [
        "#!pip3 install torch torchvision torchaudio --extra-index-url https://download.pytorch.org/whl/cu113\n",
        "#!pip3 install matplotlib\n",
        "#!pip3 install matplotlib"
      ]
    },
    {
      "cell_type": "code",
      "execution_count": 190,
      "metadata": {
        "id": "RZxh7jS2PuNv"
      },
      "outputs": [],
      "source": [
        "import pandas as pd\n",
        "import torch\n",
        "import torch.nn as nn\n",
        "import torch.nn.functional as F\n",
        "import torch.utils.data as data\n",
        "import matplotlib.pyplot as plt"
      ]
    },
    {
      "cell_type": "code",
      "execution_count": null,
      "metadata": {},
      "outputs": [],
      "source": [
        "# Here you must specify the cause_id you want to train on\n",
        "\"\"\"\n",
        "cause_id columns meaning:\n",
        "  \"508\",\"Chronic respiratory diseases\"\n",
        "  \"509\",\"Chronic obstructive pulmonary disease\"\n",
        "  \"510\",\"Pneumoconiosis\"\n",
        "  \"511\",\"Silicosis\"\n",
        "  \"512\",\"Asbestosis\"\n",
        "  \"513\",\"Coal workers pneumoconiosis\"\n",
        "  \"514\",\"Other pneumoconiosis\"\n",
        "  \"515\",\"Asthma\"\n",
        "  \"516\",\"Interstitial lung disease and pulmonary sarcoidosis\"\n",
        "  \"520\",\"Other chronic respiratory diseases\"\n",
        "  \"-1\",\"All causes\"\n",
        "\"\"\"\n",
        "cause_id = -1"
      ]
    },
    {
      "cell_type": "code",
      "execution_count": 191,
      "metadata": {
        "id": "YQU8wUGfQSnr"
      },
      "outputs": [
        {
          "name": "stdout",
          "output_type": "stream",
          "text": [
            "Current device is cpu\n"
          ]
        }
      ],
      "source": [
        "torch.manual_seed(42) # Setting the seed\n",
        "device = torch.device(\"cuda\") if torch.cuda.is_available() else torch.device(\"cpu\")\n",
        "if torch.cuda.is_available(): \n",
        "  torch.cuda.manual_seed(42)\n",
        "  torch.cuda.manual_seed_all(42)\n",
        "print(\"Current device is {}\".format(device))"
      ]
    },
    {
      "cell_type": "code",
      "execution_count": 192,
      "metadata": {},
      "outputs": [],
      "source": [
        "class LinearClassifier(nn.Module):\n",
        "  def __init__(self, input_dim, output_dim):\n",
        "    super().__init__()\n",
        "    self.linear = nn.Linear(input_dim, output_dim)\n",
        "\n",
        "  def forward(self, x):\n",
        "    x = self.linear(x)\n",
        "    return x"
      ]
    },
    {
      "cell_type": "code",
      "execution_count": 193,
      "metadata": {
        "id": "vYudliXoRoOI"
      },
      "outputs": [],
      "source": [
        "class AirDataSet(data.Dataset):\n",
        "\n",
        "  def __init__(self):\n",
        "    super().__init__()\n",
        "    file_path = 'training_data/cause_id_{}.csv'.format(cause_id)\n",
        "    if (cause_id == -1):\n",
        "      file_path = 'training_data/all_data.csv'\n",
        "    training_df = pd.read_csv(file_path,\n",
        "      dtype={\n",
        "        'parameter_85101': 'float32',\n",
        "        'parameter_88101': 'float32',\n",
        "        'parameter_44201': 'float32',\n",
        "        'parameter_42602': 'float32',\n",
        "        'parameter_42401': 'float32',\n",
        "        'parameter_42101': 'float32',\n",
        "        'cause_id': 'float32',\n",
        "      })\n",
        "\n",
        "    # Use only the first 1000 rows for training\n",
        "    # training_df = training_df[:1000]\n",
        "\n",
        "    # For each row we have the following columns corresponding to features:\n",
        "    # -parameter_85101\n",
        "    # -parameter_88101\n",
        "    # -parameter_44201\n",
        "    # -parameter_42602\n",
        "    # -parameter_42401\n",
        "    # -parameter_42101\n",
        "    # -cause_id\n",
        "\n",
        "    # And the following columns corresponding to labels:\n",
        "    # -rate\n",
        "\n",
        "    # We want to predict the rate based on the parameters\n",
        "    self.data = training_df[['parameter_85101', 'parameter_88101', 'parameter_44201', 'parameter_42602', 'parameter_42401', 'parameter_42101', 'cause_id']].to_numpy()\n",
        "    self.label = training_df[['rate']].to_numpy()\n",
        "\n",
        "    # Convert to torch tensors\n",
        "    self.data = torch.from_numpy(self.data)\n",
        "    self.label = torch.from_numpy(self.label)\n",
        "\n",
        "    # Normalize the data based on mean and variance\n",
        "    print(\"Data mean: {}, Data std: {}\".format(self.data.mean(dim=0), self.data.std(dim=0)))\n",
        "\n",
        "    self.data = (self.data - self.data.mean(dim=0)) / self.data.std(dim=0)\n",
        "\n",
        "\n",
        "\n",
        "  def __len__(self):\n",
        "    # Number of data point we have. Alternatively self.data.shape[0], or self.label.shape[0]\n",
        "    return self.data.shape[0]\n",
        "\n",
        "  def __getitem__(self, idx):\n",
        "    # Return the idx-th data point of the dataset\n",
        "    # If we have multiple things to return (data point and label), we can return them as tuple\n",
        "    data_point = self.data[idx]\n",
        "    data_label = self.label[idx]\n",
        "    return data_point, data_label"
      ]
    },
    {
      "cell_type": "code",
      "execution_count": 194,
      "metadata": {},
      "outputs": [
        {
          "name": "stdout",
          "output_type": "stream",
          "text": [
            "Data mean: tensor([1.8104e+01, 8.8269e+00, 4.7087e-02, 1.4174e+01, 5.2491e+00, 5.0115e-01,\n",
            "        5.1280e+02]), Data std: tensor([8.4843e+00, 3.1032e+00, 8.0861e-03, 1.0613e+01, 1.0969e+01, 4.7684e-01,\n",
            "        3.4293e+00])\n"
          ]
        }
      ],
      "source": [
        "model = LinearClassifier(7, 1)\n",
        "dataset = AirDataSet()\n",
        "train_data_loader = data.DataLoader(dataset, batch_size=32, shuffle=True)\n",
        "loss_func = nn.MSELoss()\n",
        "optimizer = torch.optim.SGD(model.parameters(), lr=0.001)"
      ]
    },
    {
      "cell_type": "code",
      "execution_count": 195,
      "metadata": {},
      "outputs": [
        {
          "data": {
            "text/plain": [
              "LinearClassifier(\n",
              "  (linear): Linear(in_features=7, out_features=1, bias=True)\n",
              ")"
            ]
          },
          "execution_count": 195,
          "metadata": {},
          "output_type": "execute_result"
        }
      ],
      "source": [
        "model.to(device)"
      ]
    },
    {
      "cell_type": "code",
      "execution_count": null,
      "metadata": {},
      "outputs": [],
      "source": [
        "losses = []\n",
        "def train_model(model, optimizer, data_loader, loss_module, num_epochs=1000):\n",
        "  model.train()\n",
        "  for epoch in range(num_epochs):\n",
        "    for data_point, data_label in data_loader:\n",
        "      data_point = data_point.to(device)\n",
        "      data_label = data_label.to(device)\n",
        "      data_label = data_label.squeeze(dim=1)\n",
        "\n",
        "      output = model(data_point)\n",
        "      output = output.squeeze(dim=1)\n",
        "\n",
        "      loss = loss_module(output, data_label.float())\n",
        "      \n",
        "      optimizer.zero_grad()\n",
        "      loss.backward()\n",
        "      optimizer.step()\n",
        "    # print(\"Epoch {} loss: {}\".format(epoch, loss.item()))\n",
        "    losses.append(loss.item())\n",
        "    print(\"Epoch {} loss: {}\".format(epoch, loss.item()))\n",
        "\n",
        "train_model(model, optimizer, train_data_loader, loss_func, num_epochs=500)\n",
        "\n",
        "# Plotting the loss\n",
        "plt.plot(losses)\n",
        "plt.show()\n"
      ]
    }
  ],
  "metadata": {
    "accelerator": "GPU",
    "colab": {
      "gpuType": "T4",
      "provenance": []
    },
    "gpuClass": "standard",
    "kernelspec": {
      "display_name": "Python 3",
      "name": "python3"
    },
    "language_info": {
      "codemirror_mode": {
        "name": "ipython",
        "version": 3
      },
      "file_extension": ".py",
      "mimetype": "text/x-python",
      "name": "python",
      "nbconvert_exporter": "python",
      "pygments_lexer": "ipython3",
      "version": "3.10.6"
    }
  },
  "nbformat": 4,
  "nbformat_minor": 0
}
