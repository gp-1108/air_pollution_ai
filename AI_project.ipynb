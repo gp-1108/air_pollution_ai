{
  "cells": [
    {
      "cell_type": "code",
      "execution_count": 21,
      "metadata": {
        "colab": {
          "base_uri": "https://localhost:8080/"
        },
        "id": "Mbg8PyFoL2iG",
        "outputId": "e7b51451-fe2b-4fbf-9db4-9b5ca1f08dd0"
      },
      "outputs": [],
      "source": [
        "#!pip3 install torch torchvision torchaudio --extra-index-url https://download.pytorch.org/whl/cu113\n",
        "#!pip3 install matplotlib\n",
        "#!pip3 install matplotlib"
      ]
    },
    {
      "cell_type": "code",
      "execution_count": 22,
      "metadata": {
        "id": "RZxh7jS2PuNv"
      },
      "outputs": [],
      "source": [
        "import pandas as pd\n",
        "import torch\n",
        "import torch.nn as nn\n",
        "import torch.nn.functional as F\n",
        "import torch.utils.data as data\n",
        "import matplotlib.pyplot as plt"
      ]
    },
    {
      "cell_type": "code",
      "execution_count": 23,
      "metadata": {},
      "outputs": [],
      "source": [
        "# Here you must specify the cause_id you want to train on\n",
        "\"\"\"\n",
        "cause_id columns meaning:\n",
        "  \"508\",\"Chronic respiratory diseases\"\n",
        "  \"509\",\"Chronic obstructive pulmonary disease\"\n",
        "  \"510\",\"Pneumoconiosis\"\n",
        "  \"511\",\"Silicosis\"\n",
        "  \"512\",\"Asbestosis\"\n",
        "  \"513\",\"Coal workers pneumoconiosis\"\n",
        "  \"514\",\"Other pneumoconiosis\"\n",
        "  \"515\",\"Asthma\"\n",
        "  \"516\",\"Interstitial lung disease and pulmonary sarcoidosis\"\n",
        "  \"520\",\"Other chronic respiratory diseases\"\n",
        "  \"-1\",\"All causes\"\n",
        "\"\"\"\n",
        "cause_id = 520"
      ]
    },
    {
      "cell_type": "code",
      "execution_count": 24,
      "metadata": {
        "id": "YQU8wUGfQSnr"
      },
      "outputs": [
        {
          "name": "stdout",
          "output_type": "stream",
          "text": [
            "Current device is cpu\n"
          ]
        }
      ],
      "source": [
        "torch.manual_seed(42) # Setting the seed\n",
        "device = torch.device(\"cuda\") if torch.cuda.is_available() else torch.device(\"cpu\")\n",
        "if torch.cuda.is_available(): \n",
        "  torch.cuda.manual_seed(42)\n",
        "  torch.cuda.manual_seed_all(42)\n",
        "print(\"Current device is {}\".format(device))"
      ]
    },
    {
      "cell_type": "code",
      "execution_count": 25,
      "metadata": {},
      "outputs": [],
      "source": [
        "class LinearClassifier(nn. Module):\n",
        "  def __init__(self, input_dim, output_dim):\n",
        "    super().__init__()\n",
        "    self.linear = nn.Linear(input_dim, output_dim)\n",
        "\n",
        "  def forward(self, x):\n",
        "    x = self.linear(x)\n",
        "    return x"
      ]
    },
    {
      "cell_type": "code",
      "execution_count": 26,
      "metadata": {
        "id": "vYudliXoRoOI"
      },
      "outputs": [],
      "source": [
        "class AirDataSet(data.Dataset):\n",
        "\n",
        "  def __init__(self):\n",
        "    super().__init__()\n",
        "    file_path = 'training_data/cause_id_{}.csv'.format(cause_id)\n",
        "    if (cause_id == -1):\n",
        "      file_path = 'training_data/all_data.csv'\n",
        "    training_df = pd.read_csv(file_path,\n",
        "      dtype={\n",
        "        'parameter_85101': 'float32',\n",
        "        'parameter_88101': 'float32',\n",
        "        'parameter_44201': 'float32',\n",
        "        'parameter_42602': 'float32',\n",
        "        'parameter_42401': 'float32',\n",
        "        'parameter_42101': 'float32',\n",
        "        'mortality_rate': 'float32',\n",
        "        'cause_id': 'float32',\n",
        "      })\n",
        "    training_df = training_df.drop(columns=['fips', 'year'])\n",
        "    if (cause_id != -1):\n",
        "      training_df = training_df.drop(columns=['cause_id'])\n",
        "    \n",
        "    print(training_df.dtypes)\n",
        "\n",
        "\n",
        "    # Use only the first 1000 rows for training\n",
        "    # training_df = training_df[:1000]\n",
        "\n",
        "    # For each row we have the following columns corresponding to features:\n",
        "    # -parameter_85101\n",
        "    # -parameter_88101\n",
        "    # -parameter_44201\n",
        "    # -parameter_42602\n",
        "    # -parameter_42401\n",
        "    # -parameter_42101\n",
        "    # -cause_id (if cause_id != -1)\n",
        "\n",
        "    # And the following columns corresponding to labels:\n",
        "    # -rate\n",
        "\n",
        "    # We want to predict the rate based on the parameters\n",
        "    self.data = torch.from_numpy(training_df.drop(columns=['mortality_rate']).to_numpy())\n",
        "    self.label = torch.from_numpy(training_df[['mortality_rate']].to_numpy())\n",
        "\n",
        "    # Normalize the data based on mean and variance\n",
        "    print(\"Data mean: {}, Data std: {}\".format(self.data.mean(dim=0), self.data.std(dim=0)))\n",
        "\n",
        "    self.data = (self.data - self.data.mean(dim=0)) / self.data.std(dim=0)\n",
        "\n",
        "\n",
        "  def __len__(self):\n",
        "    # Number of data point we have. Alternatively self.data.shape[0], or self.label.shape[0]\n",
        "    return self.data.shape[0]\n",
        "\n",
        "  def __getitem__(self, idx):\n",
        "    # Return the idx-th data point of the dataset\n",
        "    # If we have multiple things to return (data point and label), we can return them as tuple\n",
        "    data_point = self.data[idx]\n",
        "    data_label = self.label[idx]\n",
        "    return data_point, data_label"
      ]
    },
    {
      "cell_type": "code",
      "execution_count": 27,
      "metadata": {},
      "outputs": [
        {
          "name": "stdout",
          "output_type": "stream",
          "text": [
            "parameter_85101    float32\n",
            "parameter_88101    float32\n",
            "parameter_44201    float32\n",
            "parameter_42602    float32\n",
            "parameter_42401    float32\n",
            "parameter_42101    float32\n",
            "mortality_rate     float32\n",
            "dtype: object\n",
            "Data mean: tensor([18.1043,  8.8269,  0.0471, 14.1742,  5.2491,  0.5011]), Data std: tensor([8.4844e+00, 3.1032e+00, 8.0862e-03, 1.0613e+01, 1.0969e+01, 4.7684e-01])\n"
          ]
        }
      ],
      "source": [
        "model = LinearClassifier(7, 1)\n",
        "if (cause_id != -1):\n",
        "  model = LinearClassifier(6, 1)\n",
        "\n",
        "dataset = AirDataSet()\n",
        "train_data_loader = data.DataLoader(dataset, batch_size=32, shuffle=True)\n",
        "loss_func = nn.MSELoss()\n",
        "optimizer = torch.optim.SGD(model.parameters(), lr=0.001)"
      ]
    },
    {
      "cell_type": "code",
      "execution_count": 28,
      "metadata": {},
      "outputs": [
        {
          "data": {
            "text/plain": [
              "LinearClassifier(\n",
              "  (linear): Linear(in_features=6, out_features=1, bias=True)\n",
              ")"
            ]
          },
          "execution_count": 28,
          "metadata": {},
          "output_type": "execute_result"
        }
      ],
      "source": [
        "model.to(device)"
      ]
    },
    {
      "cell_type": "code",
      "execution_count": 34,
      "metadata": {},
      "outputs": [
        {
          "name": "stdout",
          "output_type": "stream",
          "text": [
            "Epoch 0 loss: 0.01603681407868862\n",
            "Epoch 1 loss: 0.11211346089839935\n",
            "Epoch 2 loss: 0.0308594461530447\n",
            "Epoch 3 loss: 0.023978864774107933\n",
            "Epoch 4 loss: 0.0164325051009655\n",
            "Epoch 5 loss: 0.018349099904298782\n",
            "Epoch 6 loss: 0.020100152119994164\n",
            "Epoch 7 loss: 0.05431170389056206\n",
            "Epoch 8 loss: 0.03963339328765869\n",
            "Epoch 9 loss: 0.05538393184542656\n"
          ]
        },
        {
          "data": {
            "text/plain": [
              "[<matplotlib.lines.Line2D at 0x24072136e90>]"
            ]
          },
          "execution_count": 34,
          "metadata": {},
          "output_type": "execute_result"
        },
        {
          "data": {
            "image/png": "[encoded data removed]",
            "text/plain": [
              "<Figure size 640x480 with 1 Axes>"
            ]
          },
          "metadata": {},
          "output_type": "display_data"
        }
      ],
      "source": [
        "losses = []\n",
        "epochs = []\n",
        "def train_model(model, optimizer, data_loader, loss_module, num_epochs=1000):\n",
        "  model.train()\n",
        "  with open('./plots/cause_id_{}.txt'.format(cause_id), 'w') as f:\n",
        "    for epoch in range(num_epochs):\n",
        "      epochs.append(epoch)\n",
        "      for data_point, data_label in data_loader:\n",
        "        data_point = data_point.to(device)\n",
        "        data_label = data_label.to(device)\n",
        "        data_label = data_label.squeeze(dim=1)\n",
        "\n",
        "        output = model(data_point)\n",
        "        output = output.squeeze(dim=1)\n",
        "\n",
        "        # print(f\"Predicted: {output} - True value: {data_label}\")\n",
        "\n",
        "        loss = loss_module(output, data_label.float())\n",
        "      \n",
        "        optimizer.zero_grad()\n",
        "        loss.backward()\n",
        "        optimizer.step()\n",
        "      losses.append(loss.item())\n",
        "      output = f\"Epoch {epoch} loss: {loss.item()}\"\n",
        "      print(output)\n",
        "      #print(output, file = f)\n",
        "\n",
        "train_model(model, optimizer, train_data_loader, loss_func, num_epochs=10)\n",
        "\n",
        "# Plotting the loss\n",
        "plt.plot(epochs, losses)\n",
        "#plt.xlabel('Epochs')\n",
        "#plt.ylabel('Loss')\n",
        "\n",
        "\n",
        "#plt.savefig('./plots/cause_id_{}.png'.format(cause_id))\n",
        "\n"
      ]
    },
    {
      "cell_type": "code",
      "execution_count": 35,
      "metadata": {},
      "outputs": [
        {
          "ename": "AttributeError",
          "evalue": "'Tensor' object has no attribute 'corr'",
          "output_type": "error",
          "traceback": [
            "\u001b[1;31m---------------------------------------------------------------------------\u001b[0m",
            "\u001b[1;31mAttributeError\u001b[0m                            Traceback (most recent call last)",
            "Cell \u001b[1;32mIn[35], line 3\u001b[0m\n\u001b[0;32m      1\u001b[0m \u001b[39m# Correlation matrix plot\u001b[39;00m\n\u001b[0;32m      2\u001b[0m \u001b[39mimport\u001b[39;00m \u001b[39mseaborn\u001b[39;00m \u001b[39mas\u001b[39;00m \u001b[39msns\u001b[39;00m\n\u001b[1;32m----> 3\u001b[0m corrMatrix \u001b[39m=\u001b[39m dataset\u001b[39m.\u001b[39;49mdata\u001b[39m.\u001b[39;49mcorr()\n\u001b[0;32m      4\u001b[0m sns\u001b[39m.\u001b[39mheatmap(corrMatrix, annot\u001b[39m=\u001b[39m\u001b[39mTrue\u001b[39;00m)\n\u001b[0;32m      5\u001b[0m plt\u001b[39m.\u001b[39mshow()\n",
            "\u001b[1;31mAttributeError\u001b[0m: 'Tensor' object has no attribute 'corr'"
          ]
        }
      ],
      "source": [
        "# Correlation matrix of dataframe\n",
        "corrMatrix = dataset.data.corr()\n",
        "print(corrMatrix)\n",
        "\n"
      ]
    },
    {
      "cell_type": "code",
      "execution_count": null,
      "metadata": {},
      "outputs": [],
      "source": [
        "\n"
      ]
    }
  ],
  "metadata": {
    "accelerator": "GPU",
    "colab": {
      "gpuType": "T4",
      "provenance": []
    },
    "gpuClass": "standard",
    "kernelspec": {
      "display_name": "Python 3",
      "name": "python3"
    },
    "language_info": {
      "codemirror_mode": {
        "name": "ipython",
        "version": 3
      },
      "file_extension": ".py",
      "mimetype": "text/x-python",
      "name": "python",
      "nbconvert_exporter": "python",
      "pygments_lexer": "ipython3",
      "version": "3.10.11"
    }
  },
  "nbformat": 4,
  "nbformat_minor": 0
}
